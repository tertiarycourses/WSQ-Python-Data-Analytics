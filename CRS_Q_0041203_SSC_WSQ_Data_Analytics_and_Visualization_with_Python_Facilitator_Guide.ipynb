{
  "nbformat": 4,
  "nbformat_minor": 0,
  "metadata": {
    "kernelspec": {
      "display_name": "Python 3",
      "language": "python",
      "name": "python3"
    },
    "language_info": {
      "codemirror_mode": {
        "name": "ipython",
        "version": 3
      },
      "file_extension": ".py",
      "mimetype": "text/x-python",
      "name": "python",
      "nbconvert_exporter": "python",
      "pygments_lexer": "ipython3",
      "version": "3.6.5"
    },
    "colab": {
      "name": "CRS-Q-0041203-SSC - WSQ - Data Analytics and Visualization with Python Facilitator Guide.ipynb",
      "provenance": []
    }
  },
  "cells": [
    {
      "cell_type": "markdown",
      "metadata": {
        "id": "DuWuy79LtA4U",
        "colab_type": "text"
      },
      "source": [
        "# WSQ - Data Analytics and Visualization with Python Facilitator Guide"
      ]
    },
    {
      "cell_type": "markdown",
      "metadata": {
        "id": "7ezBm7D7gEZc",
        "colab_type": "text"
      },
      "source": [
        "#Topic 1 Data Preparation\n"
      ]
    },
    {
      "cell_type": "markdown",
      "metadata": {
        "id": "zhIjWR40gVcA",
        "colab_type": "text"
      },
      "source": [
        "## Install Python Data Analysis Packages"
      ]
    },
    {
      "cell_type": "code",
      "metadata": {
        "id": "hzBEFiJ6gEZd",
        "colab_type": "code",
        "colab": {}
      },
      "source": [
        "# These packagss have been pre-installed on Google Colab\n",
        "!pip install numpy\n",
        "!pip install matplotlib\n",
        "!pip install seaborn\n",
        "!pip install pandas\n",
        "!pip install scipy\n",
        "!pip install sklearn"
      ],
      "execution_count": null,
      "outputs": []
    },
    {
      "cell_type": "code",
      "metadata": {
        "id": "H5rpHv_FjI70",
        "colab_type": "code",
        "colab": {}
      },
      "source": [
        "import numpy as np\n",
        "import matplotlib.pyplot as plt\n",
        "import seaborn as sb\n",
        "import pandas as pd\n",
        "import sklearn"
      ],
      "execution_count": null,
      "outputs": []
    },
    {
      "cell_type": "markdown",
      "metadata": {
        "id": "7V8iF4swgZzg",
        "colab_type": "text"
      },
      "source": [
        "## Series"
      ]
    },
    {
      "cell_type": "code",
      "metadata": {
        "id": "MCUfMrKAgbVl",
        "colab_type": "code",
        "colab": {}
      },
      "source": [
        "data = np.array([10,20,30,40])\n",
        "s = pd.Series(data,index=['2011','2012','2013','2014'])\n",
        "s"
      ],
      "execution_count": null,
      "outputs": []
    },
    {
      "cell_type": "code",
      "metadata": {
        "id": "PzEtOBhx7yDa",
        "colab_type": "code",
        "colab": {}
      },
      "source": [
        "data = {'2011':40,'2012':30,'2013':20,'2014':10}\n",
        "s = pd.Series(data)\n",
        "s"
      ],
      "execution_count": null,
      "outputs": []
    },
    {
      "cell_type": "code",
      "metadata": {
        "id": "-ujT03Mrip11",
        "colab_type": "code",
        "colab": {}
      },
      "source": [
        "s['2012']"
      ],
      "execution_count": null,
      "outputs": []
    },
    {
      "cell_type": "markdown",
      "metadata": {
        "id": "6VI4s6KugEa1",
        "colab_type": "text"
      },
      "source": [
        "## DataFrame"
      ]
    },
    {
      "cell_type": "code",
      "metadata": {
        "id": "3FAv-kkIgEa1",
        "colab_type": "code",
        "colab": {}
      },
      "source": [
        "data = {\n",
        "    'Name' : [\"Ally\",\"Belinda\",\"Jane\",\"Steve\"],\n",
        "    'Height' : [160,165,155,180],\n",
        "    'Gender' : ['F','F','F','M']\n",
        "}"
      ],
      "execution_count": null,
      "outputs": []
    },
    {
      "cell_type": "code",
      "metadata": {
        "id": "jCGH8LoCgEa3",
        "colab_type": "code",
        "colab": {}
      },
      "source": [
        "df = pd.DataFrame(data)\n",
        "df"
      ],
      "execution_count": null,
      "outputs": []
    },
    {
      "cell_type": "markdown",
      "metadata": {
        "id": "tbM-3JwHgEa5",
        "colab_type": "text"
      },
      "source": [
        "## Import and Export Data"
      ]
    },
    {
      "cell_type": "code",
      "metadata": {
        "id": "d6n0myPugEa5",
        "colab_type": "code",
        "colab": {}
      },
      "source": [
        "# Import CSV file\n",
        "mtcars = pd.read_csv('https://raw.githubusercontent.com/tertiarycourses/datasets/master/mtcars.csv')\n",
        "mtcars"
      ],
      "execution_count": null,
      "outputs": []
    },
    {
      "cell_type": "code",
      "metadata": {
        "id": "EIEw3MzzrCtk",
        "colab_type": "code",
        "colab": {}
      },
      "source": [
        "mtcars_sample = pd.read_csv('https://raw.githubusercontent.com/tertiarycourses/datasets/master/mtcars.csv',\n",
        "                          index_col='car_names',\n",
        "                          usecols=['car_names','mpg','hp','cyl','am'])\n",
        "mtcars_sample"
      ],
      "execution_count": null,
      "outputs": []
    },
    {
      "cell_type": "code",
      "metadata": {
        "id": "tHpotVaX9p0y",
        "colab_type": "code",
        "colab": {}
      },
      "source": [
        "mtcars_sample.to_csv('cars_sample.csv')"
      ],
      "execution_count": null,
      "outputs": []
    },
    {
      "cell_type": "code",
      "metadata": {
        "id": "zZZ3obNlH9fa",
        "colab_type": "code",
        "colab": {}
      },
      "source": [
        "mtcars_sample.to_excel('cars_sample.xlsx', sheet_name='cars', index=False)"
      ],
      "execution_count": null,
      "outputs": []
    },
    {
      "cell_type": "code",
      "metadata": {
        "id": "F9ty3iKjIFGX",
        "colab_type": "code",
        "colab": {}
      },
      "source": [
        "mtcars_sample2 = pd.read_excel('cars_sample.xlsx', sheet_name='cars')"
      ],
      "execution_count": null,
      "outputs": []
    },
    {
      "cell_type": "markdown",
      "metadata": {
        "id": "krqD-p7dgEa8",
        "colab_type": "text"
      },
      "source": [
        "## Dataframe Attributes"
      ]
    },
    {
      "cell_type": "code",
      "metadata": {
        "id": "L2qOLrdELSa0",
        "colab_type": "code",
        "colab": {}
      },
      "source": [
        "mtcars.info()"
      ],
      "execution_count": null,
      "outputs": []
    },
    {
      "cell_type": "code",
      "metadata": {
        "id": "zdcvpThcqwmn",
        "colab_type": "code",
        "colab": {}
      },
      "source": [
        "mtcars_sample.shape"
      ],
      "execution_count": null,
      "outputs": []
    },
    {
      "cell_type": "code",
      "metadata": {
        "id": "bMPIfw_Pq5eX",
        "colab_type": "code",
        "colab": {}
      },
      "source": [
        "mtcars_sample.columns"
      ],
      "execution_count": null,
      "outputs": []
    },
    {
      "cell_type": "code",
      "metadata": {
        "id": "IN7zf4lIsXwP",
        "colab_type": "code",
        "colab": {}
      },
      "source": [
        "mtcars_sample.index"
      ],
      "execution_count": null,
      "outputs": []
    },
    {
      "cell_type": "code",
      "metadata": {
        "id": "IvcD2AFjgEa8",
        "colab_type": "code",
        "colab": {}
      },
      "source": [
        "mtcars_sample['mpg'].values"
      ],
      "execution_count": null,
      "outputs": []
    },
    {
      "cell_type": "markdown",
      "metadata": {
        "id": "YSLwqC1QgEa-",
        "colab_type": "text"
      },
      "source": [
        "## Activity: Import and Export Data"
      ]
    },
    {
      "cell_type": "code",
      "metadata": {
        "id": "aps7LQg04tvr",
        "colab_type": "code",
        "colab": {}
      },
      "source": [
        "health_expenditure = pd.read_csv('https://raw.githubusercontent.com/tertiarycourses/datasets/master/government-health-expenditure.csv',)\n",
        "health_expenditure"
      ],
      "execution_count": null,
      "outputs": []
    },
    {
      "cell_type": "code",
      "metadata": {
        "id": "DrftyDLSgEa-",
        "colab_type": "code",
        "colab": {}
      },
      "source": [
        "health_expenditure_sample = pd.read_csv('https://raw.githubusercontent.com/tertiarycourses/datasets/master/government-health-expenditure.csv',\n",
        "                                        index_col='financial_year',\n",
        "                                        usecols=['financial_year','operating_expenditure','development_expenditure','government_health_expenditure'])\n",
        "health_expenditure_sample"
      ],
      "execution_count": null,
      "outputs": []
    },
    {
      "cell_type": "code",
      "metadata": {
        "id": "UOl59bTDK4d3",
        "colab_type": "code",
        "colab": {}
      },
      "source": [
        "health_expenditure_sample.to_csv('Heath_Expenditure.csv')"
      ],
      "execution_count": null,
      "outputs": []
    },
    {
      "cell_type": "code",
      "metadata": {
        "id": "7A2djumzgEbB",
        "colab_type": "code",
        "colab": {}
      },
      "source": [
        ""
      ],
      "execution_count": null,
      "outputs": []
    },
    {
      "cell_type": "markdown",
      "metadata": {
        "id": "PyQthkxrgEbE",
        "colab_type": "text"
      },
      "source": [
        "## Selecting Column"
      ]
    },
    {
      "cell_type": "code",
      "metadata": {
        "id": "WZdePh6lMb-G",
        "colab_type": "code",
        "colab": {}
      },
      "source": [
        "mtcars_sample['mpg']"
      ],
      "execution_count": null,
      "outputs": []
    },
    {
      "cell_type": "code",
      "metadata": {
        "id": "sa0IRnuGgEbF",
        "colab_type": "code",
        "colab": {}
      },
      "source": [
        "mtcars_sample[['mpg','cyl']]"
      ],
      "execution_count": null,
      "outputs": []
    },
    {
      "cell_type": "code",
      "metadata": {
        "id": "EGiaSo1cgEbG",
        "colab_type": "code",
        "colab": {}
      },
      "source": [
        "mtcars_sample.mpg"
      ],
      "execution_count": null,
      "outputs": []
    },
    {
      "cell_type": "code",
      "metadata": {
        "id": "EjTIs0jOgEbJ",
        "colab_type": "code",
        "colab": {}
      },
      "source": [
        "mtcars_sample[['mpg','cyl']]"
      ],
      "execution_count": null,
      "outputs": []
    },
    {
      "cell_type": "markdown",
      "metadata": {
        "id": "7E1s525XgEbL",
        "colab_type": "text"
      },
      "source": [
        "## Selecting Row"
      ]
    },
    {
      "cell_type": "code",
      "metadata": {
        "id": "BouqI6IUgEbN",
        "colab_type": "code",
        "colab": {}
      },
      "source": [
        "mtcars_sample.loc['Fiat 128']"
      ],
      "execution_count": null,
      "outputs": []
    },
    {
      "cell_type": "code",
      "metadata": {
        "id": "RW8axahyD2K3",
        "colab_type": "code",
        "colab": {}
      },
      "source": [
        "mtcars_sample.loc[['Fiat 128','Lotus Europa']]"
      ],
      "execution_count": null,
      "outputs": []
    },
    {
      "cell_type": "code",
      "metadata": {
        "id": "thAsYbKDgEbL",
        "colab_type": "code",
        "colab": {}
      },
      "source": [
        "mtcars_sample.iloc[3]"
      ],
      "execution_count": null,
      "outputs": []
    },
    {
      "cell_type": "code",
      "metadata": {
        "id": "dydlYm0iEEbc",
        "colab_type": "code",
        "colab": {}
      },
      "source": [
        "mtcars_sample.iloc[[3,5]]"
      ],
      "execution_count": null,
      "outputs": []
    },
    {
      "cell_type": "markdown",
      "metadata": {
        "id": "2STPI6M1F21F",
        "colab_type": "text"
      },
      "source": [
        "## Slicing Data"
      ]
    },
    {
      "cell_type": "code",
      "metadata": {
        "id": "_MfVAimAE7sU",
        "colab_type": "code",
        "colab": {}
      },
      "source": [
        "mtcars_sample.iloc[3:6]"
      ],
      "execution_count": null,
      "outputs": []
    },
    {
      "cell_type": "code",
      "metadata": {
        "id": "_6Qg4LcfFDpp",
        "colab_type": "code",
        "colab": {}
      },
      "source": [
        "mtcars_sample.iloc[:3]"
      ],
      "execution_count": null,
      "outputs": []
    },
    {
      "cell_type": "code",
      "metadata": {
        "id": "twPmOSNSZ6ah",
        "colab_type": "code",
        "colab": {}
      },
      "source": [
        "mtcars_sample.iloc[:,:3]"
      ],
      "execution_count": null,
      "outputs": []
    },
    {
      "cell_type": "markdown",
      "metadata": {
        "id": "ktUTspoOgEbR",
        "colab_type": "text"
      },
      "source": [
        "## Acitivity: Selecting and Slicing Data"
      ]
    },
    {
      "cell_type": "code",
      "metadata": {
        "id": "TaiPid8ogEbR",
        "colab_type": "code",
        "colab": {}
      },
      "source": [
        "health_expenditure_sample = pd.read_csv('https://raw.githubusercontent.com/tertiarycourses/datasets/master/government-health-expenditure.csv',\n",
        "                                        index_col='financial_year',\n",
        "                                        usecols=['financial_year','operating_expenditure','development_expenditure','government_health_expenditure'])\n",
        "health_expenditure_sample"
      ],
      "execution_count": null,
      "outputs": []
    },
    {
      "cell_type": "code",
      "metadata": {
        "id": "eL5jssLACoKe",
        "colab_type": "code",
        "colab": {}
      },
      "source": [
        "health_expenditure_sample.info()"
      ],
      "execution_count": null,
      "outputs": []
    },
    {
      "cell_type": "code",
      "metadata": {
        "id": "uKzLvpGYOiS2",
        "colab_type": "code",
        "colab": {}
      },
      "source": [
        "health_expenditure_sample[['operating_expenditure','development_expenditure']]"
      ],
      "execution_count": null,
      "outputs": []
    },
    {
      "cell_type": "code",
      "metadata": {
        "id": "WGfo4H5GCS_J",
        "colab_type": "code",
        "colab": {}
      },
      "source": [
        "health_expenditure_sample[['operating_expenditure','development_expenditure']].loc[[2016,2017]]"
      ],
      "execution_count": null,
      "outputs": []
    },
    {
      "cell_type": "code",
      "metadata": {
        "id": "N4NJjk3vC-z7",
        "colab_type": "code",
        "colab": {}
      },
      "source": [
        "health_expenditure_sample[['operating_expenditure','development_expenditure']].iloc[3:8]"
      ],
      "execution_count": null,
      "outputs": []
    },
    {
      "cell_type": "markdown",
      "metadata": {
        "id": "QPtyo6FwgEbf",
        "colab_type": "text"
      },
      "source": [
        "## Filtering Data"
      ]
    },
    {
      "cell_type": "code",
      "metadata": {
        "id": "Q-VD2kuPgEbg",
        "colab_type": "code",
        "colab": {}
      },
      "source": [
        "mtcars_sample[mtcars_sample['cyl']>4]"
      ],
      "execution_count": null,
      "outputs": []
    },
    {
      "cell_type": "code",
      "metadata": {
        "id": "v3eUxvoDahFJ",
        "colab_type": "code",
        "colab": {}
      },
      "source": [
        "mtcars_sample[(mtcars_sample[\"mpg\"] > 20) | (mtcars_sample[\"cyl\"] < 6)]"
      ],
      "execution_count": null,
      "outputs": []
    },
    {
      "cell_type": "code",
      "metadata": {
        "id": "rX5fxXOia5Ye",
        "colab_type": "code",
        "colab": {}
      },
      "source": [
        "mtcars_sample[mtcars_sample[\"am\"] == 1]"
      ],
      "execution_count": null,
      "outputs": []
    },
    {
      "cell_type": "code",
      "metadata": {
        "id": "UV95VleWbG37",
        "colab_type": "code",
        "colab": {}
      },
      "source": [
        "mtcars_sample.loc[[\"Mazda RX4\", \"Fiat 128\"], :]"
      ],
      "execution_count": null,
      "outputs": []
    },
    {
      "cell_type": "code",
      "metadata": {
        "id": "zadX14g2gEbh",
        "colab_type": "code",
        "colab": {}
      },
      "source": [
        "mtcars_sample[mtcars_sample['cyl'].isin([6,])]"
      ],
      "execution_count": null,
      "outputs": []
    },
    {
      "cell_type": "markdown",
      "metadata": {
        "id": "8f8Ms-FxgEbh",
        "colab_type": "text"
      },
      "source": [
        "## Activity: Filtering Data"
      ]
    },
    {
      "cell_type": "code",
      "metadata": {
        "id": "VHoW5H6lgEbi",
        "colab_type": "code",
        "colab": {}
      },
      "source": [
        "health_expenditure_sample[health_expenditure_sample.operating_expenditure>5000]"
      ],
      "execution_count": null,
      "outputs": []
    },
    {
      "cell_type": "code",
      "metadata": {
        "id": "byhZzaRFgEbj",
        "colab_type": "code",
        "colab": {}
      },
      "source": [
        "health_expenditure_sample[(health_expenditure_sample.operating_expenditure>5000) & (health_expenditure_sample.operating_expenditure<8000) ]"
      ],
      "execution_count": null,
      "outputs": []
    },
    {
      "cell_type": "markdown",
      "metadata": {
        "id": "9ZdSa2HugEbk",
        "colab_type": "text"
      },
      "source": [
        "## Data Cleaning"
      ]
    },
    {
      "cell_type": "markdown",
      "metadata": {
        "id": "FJZ3Z8_OgEbk",
        "colab_type": "text"
      },
      "source": [
        "### Missing Data"
      ]
    },
    {
      "cell_type": "code",
      "metadata": {
        "id": "Y2Dh8Y4rgEbk",
        "colab_type": "code",
        "colab": {}
      },
      "source": [
        "df = pd.DataFrame(np.random.randn(5, 3), index=['a', 'c', 'e', 'f',\n",
        "'h'],columns=['one', 'two', 'three'])\n",
        "\n",
        "df = df.reindex(['a', 'b', 'c', 'd', 'e', 'f', 'g', 'h'])\n",
        "df"
      ],
      "execution_count": null,
      "outputs": []
    },
    {
      "cell_type": "code",
      "metadata": {
        "id": "mMTZlOAfgEbl",
        "colab_type": "code",
        "colab": {}
      },
      "source": [
        "df['one'].isnull()"
      ],
      "execution_count": null,
      "outputs": []
    },
    {
      "cell_type": "code",
      "metadata": {
        "id": "r5XLl3rtgEbm",
        "colab_type": "code",
        "colab": {}
      },
      "source": [
        " df.dropna()"
      ],
      "execution_count": null,
      "outputs": []
    },
    {
      "cell_type": "code",
      "metadata": {
        "id": "jFbbUARXVYZX",
        "colab_type": "code",
        "colab": {}
      },
      "source": [
        " df.fillna(0)\n"
      ],
      "execution_count": null,
      "outputs": []
    },
    {
      "cell_type": "code",
      "metadata": {
        "id": "AqoJ4N9UYDAE",
        "colab_type": "code",
        "colab": {}
      },
      "source": [
        "df.fillna(method='pad')"
      ],
      "execution_count": null,
      "outputs": []
    },
    {
      "cell_type": "code",
      "metadata": {
        "id": "_W74ecfugEbp",
        "colab_type": "code",
        "colab": {}
      },
      "source": [
        "df.fillna(method='backfill')"
      ],
      "execution_count": null,
      "outputs": []
    },
    {
      "cell_type": "markdown",
      "metadata": {
        "id": "VKfI8-4G50wi",
        "colab_type": "text"
      },
      "source": [
        "## Activity: Missing Data"
      ]
    },
    {
      "cell_type": "code",
      "metadata": {
        "id": "vVYwauI_1rg1",
        "colab_type": "code",
        "colab": {}
      },
      "source": [
        "health_expenditure = pd.read_csv('https://raw.githubusercontent.com/tertiarycourses/datasets/master/hospital-admissions-by-sector-annual.csv')\n",
        "health_expenditure"
      ],
      "execution_count": null,
      "outputs": []
    },
    {
      "cell_type": "code",
      "metadata": {
        "id": "kho24nHc2v0g",
        "colab_type": "code",
        "colab": {}
      },
      "source": [
        "health_expenditure_NaN = health_expenditure.replace('na',np.NaN)\n",
        "health_expenditure_NaN"
      ],
      "execution_count": null,
      "outputs": []
    },
    {
      "cell_type": "code",
      "metadata": {
        "id": "gLC5Wgts2O_y",
        "colab_type": "code",
        "colab": {}
      },
      "source": [
        "#health_expenditure_na = health_expenditure.dropna()\n",
        "health_expenditure_NaN.isnull().values.sum()"
      ],
      "execution_count": null,
      "outputs": []
    },
    {
      "cell_type": "code",
      "metadata": {
        "id": "hhjmqFam5aqv",
        "colab_type": "code",
        "colab": {}
      },
      "source": [
        "health_expenditure_dropna = health_expenditure_NaN.dropna()\n",
        "health_expenditure_dropna"
      ],
      "execution_count": null,
      "outputs": []
    },
    {
      "cell_type": "code",
      "metadata": {
        "id": "nfj_820F5esX",
        "colab_type": "code",
        "colab": {}
      },
      "source": [
        "health_expenditure_dropna.isnull().values.sum()"
      ],
      "execution_count": null,
      "outputs": []
    },
    {
      "cell_type": "markdown",
      "metadata": {
        "id": "wY6zdzqxZ1vh",
        "colab_type": "text"
      },
      "source": [
        "# Topic 2 Data Transformation"
      ]
    },
    {
      "cell_type": "markdown",
      "metadata": {
        "id": "qrR8YxldgEb0",
        "colab_type": "text"
      },
      "source": [
        "## Joining Data"
      ]
    },
    {
      "cell_type": "code",
      "metadata": {
        "id": "0ZJK443QsjFx",
        "colab_type": "code",
        "colab": {}
      },
      "source": [
        "merc = [c for c in mtcars_sample.index if 'Merc' in c]\n",
        "merc_cars = mtcars_sample.loc[merc]\n",
        "merc_cars"
      ],
      "execution_count": null,
      "outputs": []
    },
    {
      "cell_type": "code",
      "metadata": {
        "id": "yI_1DbYSx_hg",
        "colab_type": "code",
        "colab": {}
      },
      "source": [
        "toyota = [c for c in mtcars_sample.index if 'Toyota' in c]\n",
        "toyota_cars = mtcars_sample.loc[toyota]\n",
        "toyota_cars"
      ],
      "execution_count": null,
      "outputs": []
    },
    {
      "cell_type": "code",
      "metadata": {
        "id": "QmF_ETmdyuWQ",
        "colab_type": "code",
        "colab": {}
      },
      "source": [
        "merc_toyota_cars = pd.concat([merc_cars, toyota_cars], axis=0)\n",
        "merc_toyota_cars"
      ],
      "execution_count": null,
      "outputs": []
    },
    {
      "cell_type": "code",
      "metadata": {
        "id": "SVpazv9n0bTu",
        "colab_type": "code",
        "colab": {}
      },
      "source": [
        "print('Shape of the  toyota_cars: ', toyota_cars.shape)\n",
        "print('Shape of the  merc_cars: ', merc_cars.shape)\n",
        "print('Shape of the resulting merc_toyota_cars: ', merc_toyota_cars.shape)"
      ],
      "execution_count": null,
      "outputs": []
    },
    {
      "cell_type": "markdown",
      "metadata": {
        "id": "rp5jbizT1qjW",
        "colab_type": "text"
      },
      "source": [
        "## Activity: Joining Data"
      ]
    },
    {
      "cell_type": "code",
      "metadata": {
        "id": "wlrIGwcDaRmU",
        "colab_type": "code",
        "colab": {}
      },
      "source": [
        "air_quality_no2 = pd.read_csv(\"https://raw.githubusercontent.com/pandas-dev/pandas/master/doc/data/air_quality_no2_long.csv\")\n",
        "air_quality_no2 = air_quality_no2[[\"date.utc\", \"location\",\"parameter\", \"value\"]]\n",
        "air_quality_no2.head()"
      ],
      "execution_count": null,
      "outputs": []
    },
    {
      "cell_type": "code",
      "metadata": {
        "id": "Rd828ic8aoJF",
        "colab_type": "code",
        "colab": {}
      },
      "source": [
        "air_quality_pm25 = pd.read_csv(\"https://raw.githubusercontent.com/pandas-dev/pandas/master/doc/data/air_quality_pm25_long.csv\")\n",
        "air_quality_pm25 = air_quality_pm25[[\"date.utc\", \"location\",\"parameter\", \"value\"]]\n",
        "air_quality_pm25.head()"
      ],
      "execution_count": null,
      "outputs": []
    },
    {
      "cell_type": "code",
      "metadata": {
        "id": "mkSioRJzcKYD",
        "colab_type": "code",
        "colab": {}
      },
      "source": [
        "air_quality = pd.concat([air_quality_pm25, air_quality_no2], axis=0)\n",
        "air_quality.head()"
      ],
      "execution_count": null,
      "outputs": []
    },
    {
      "cell_type": "code",
      "metadata": {
        "id": "VTPdBSFfc1eh",
        "colab_type": "code",
        "colab": {}
      },
      "source": [
        "print('Shape of the `air_quality_pm25` table: ', air_quality_pm25.shape)\n",
        "print('Shape of the `air_quality_no2` table: ', air_quality_no2.shape)\n",
        "print('Shape of the resulting `air_quality` table: ', air_quality.shape)"
      ],
      "execution_count": null,
      "outputs": []
    },
    {
      "cell_type": "markdown",
      "metadata": {
        "id": "jz0HugqlgEb0",
        "colab_type": "text"
      },
      "source": [
        "### Appending Data"
      ]
    },
    {
      "cell_type": "code",
      "metadata": {
        "id": "e0jr3wVpgEb9",
        "colab_type": "code",
        "colab": {}
      },
      "source": [
        "toyota_merc_cars2= toyota_cars.append(merc_cars)\n",
        "toyota_merc_cars2"
      ],
      "execution_count": null,
      "outputs": []
    },
    {
      "cell_type": "markdown",
      "metadata": {
        "id": "1Qk0-GRygEcA",
        "colab_type": "text"
      },
      "source": [
        "## Merging Data"
      ]
    },
    {
      "cell_type": "code",
      "metadata": {
        "id": "5xEp6QeJgEcB",
        "colab_type": "code",
        "colab": {}
      },
      "source": [
        "left = pd.DataFrame({'key': ['K0', 'K1', 'K2', 'K3'],\n",
        "                     'A': ['A0', 'A1', 'A2', 'A3'],\n",
        "                     'B': ['B0', 'B1', 'B2', 'B3']})\n",
        "left"
      ],
      "execution_count": null,
      "outputs": []
    },
    {
      "cell_type": "code",
      "metadata": {
        "id": "OzGGgFa96UDw",
        "colab_type": "code",
        "colab": {}
      },
      "source": [
        "right = pd.DataFrame({'key': ['K0', 'K1', 'K2', 'K4'],\n",
        "                      'C': ['C0', 'C1', 'C2', 'C4'],\n",
        "                      'D': ['D0', 'D1', 'D2', 'D4']})\n",
        "right"
      ],
      "execution_count": null,
      "outputs": []
    },
    {
      "cell_type": "code",
      "metadata": {
        "id": "bWJefyWs6evU",
        "colab_type": "code",
        "colab": {}
      },
      "source": [
        "result = pd.merge(left, right, on='key')\n",
        "result"
      ],
      "execution_count": null,
      "outputs": []
    },
    {
      "cell_type": "code",
      "metadata": {
        "id": "Aqto-er66klo",
        "colab_type": "code",
        "colab": {}
      },
      "source": [
        "result = pd.merge(left, right, on='key',how='inner')\n",
        "result"
      ],
      "execution_count": null,
      "outputs": []
    },
    {
      "cell_type": "code",
      "metadata": {
        "id": "Krzonfx96omW",
        "colab_type": "code",
        "colab": {}
      },
      "source": [
        "result = pd.merge(left, right, on='key',how='outer')\n",
        "result"
      ],
      "execution_count": null,
      "outputs": []
    },
    {
      "cell_type": "code",
      "metadata": {
        "id": "tEKbui0M643F",
        "colab_type": "code",
        "colab": {}
      },
      "source": [
        "result = pd.merge(left, right, on='key',how='left')\n",
        "result"
      ],
      "execution_count": null,
      "outputs": []
    },
    {
      "cell_type": "code",
      "metadata": {
        "id": "iKPAD2Tj6_Rr",
        "colab_type": "code",
        "colab": {}
      },
      "source": [
        "result = pd.merge(left, right, on='key',how='right')\n",
        "result"
      ],
      "execution_count": null,
      "outputs": []
    },
    {
      "cell_type": "markdown",
      "metadata": {
        "id": "U0VtE3NrgEcD",
        "colab_type": "text"
      },
      "source": [
        "## Activiity: Merging Data"
      ]
    },
    {
      "cell_type": "code",
      "metadata": {
        "id": "kK8TMhXrgEcD",
        "colab_type": "code",
        "colab": {}
      },
      "source": [
        "air_quality = pd.merge(air_quality_pm25, air_quality_no2, on='location')\n",
        "air_quality.head()"
      ],
      "execution_count": null,
      "outputs": []
    },
    {
      "cell_type": "code",
      "metadata": {
        "id": "yyxVS2dkgEcE",
        "colab_type": "code",
        "colab": {}
      },
      "source": [
        "air_quality = pd.merge(air_quality_pm25, air_quality_no2, on='date.utc')\n",
        "air_quality.head()"
      ],
      "execution_count": null,
      "outputs": []
    },
    {
      "cell_type": "markdown",
      "metadata": {
        "id": "GGx1k5sfOw5G",
        "colab_type": "text"
      },
      "source": [
        "## Sorting Data"
      ]
    },
    {
      "cell_type": "code",
      "metadata": {
        "id": "0yOl2ag3GYQN",
        "colab_type": "code",
        "colab": {}
      },
      "source": [
        "mtcars_sample.sort_values(by=\"cyl\",ascending=False)"
      ],
      "execution_count": null,
      "outputs": []
    },
    {
      "cell_type": "markdown",
      "metadata": {
        "id": "WNDTF_GDgEcF",
        "colab_type": "text"
      },
      "source": [
        "## GroupBy"
      ]
    },
    {
      "cell_type": "code",
      "metadata": {
        "id": "4uoSPWMkAvO2",
        "colab_type": "code",
        "colab": {}
      },
      "source": [
        "mtcars_sample.groupby(['cyl']).mean()"
      ],
      "execution_count": null,
      "outputs": []
    },
    {
      "cell_type": "code",
      "metadata": {
        "id": "OSP0-2Wsc7IW",
        "colab_type": "code",
        "colab": {}
      },
      "source": [
        "mtcars_sample.groupby('cyl').hp.mean()"
      ],
      "execution_count": null,
      "outputs": []
    },
    {
      "cell_type": "code",
      "metadata": {
        "id": "OEcoFLbfCMUo",
        "colab_type": "code",
        "colab": {}
      },
      "source": [
        "mtcars_sample.groupby(['cyl']).sum()"
      ],
      "execution_count": null,
      "outputs": []
    },
    {
      "cell_type": "code",
      "metadata": {
        "id": "LmfbBIZBj3Ww",
        "colab_type": "code",
        "colab": {}
      },
      "source": [
        "mtcars_sample.groupby(['cyl']).agg(['mean', 'count'])"
      ],
      "execution_count": null,
      "outputs": []
    },
    {
      "cell_type": "code",
      "metadata": {
        "id": "rnDXLTzPA0pj",
        "colab_type": "code",
        "colab": {}
      },
      "source": [
        "mtcars_sample.groupby(['cyl','am']).mean()"
      ],
      "execution_count": null,
      "outputs": []
    },
    {
      "cell_type": "code",
      "metadata": {
        "id": "Epe1nDikjen3",
        "colab_type": "code",
        "colab": {}
      },
      "source": [
        "mtcars_sample.groupby('cyl').agg(lambda x:max(x)-min(x))"
      ],
      "execution_count": null,
      "outputs": []
    },
    {
      "cell_type": "code",
      "metadata": {
        "id": "E42xpjCdjqsN",
        "colab_type": "code",
        "colab": {}
      },
      "source": [
        "mtcars_sample.groupby(['cyl', 'am']).agg(['mean', 'count'])"
      ],
      "execution_count": null,
      "outputs": []
    },
    {
      "cell_type": "markdown",
      "metadata": {
        "id": "I4EUqUAZK9kl",
        "colab_type": "text"
      },
      "source": [
        "## Activitiy: Groupby"
      ]
    },
    {
      "cell_type": "code",
      "metadata": {
        "id": "L2LIQrGveBxp",
        "colab_type": "code",
        "colab": {}
      },
      "source": [
        "long_term_care = pd.read_csv('https://raw.githubusercontent.com/tertiarycourses/datasets/master/number-of-residential-long-term-care-facilities-sector-breakdown.csv',)\n",
        "long_term_care.head()"
      ],
      "execution_count": null,
      "outputs": []
    },
    {
      "cell_type": "code",
      "metadata": {
        "id": "jHg_T5DleE45",
        "colab_type": "code",
        "colab": {}
      },
      "source": [
        "long_term_care_by_sector = long_term_care.groupby(['year','sector']).sum()\n",
        "long_term_care_by_sector"
      ],
      "execution_count": null,
      "outputs": []
    },
    {
      "cell_type": "markdown",
      "metadata": {
        "id": "QsuSAJvUIh6k",
        "colab_type": "text"
      },
      "source": [
        "## Pivoting Data"
      ]
    },
    {
      "cell_type": "code",
      "metadata": {
        "id": "IknTVeXtMLtS",
        "colab_type": "code",
        "colab": {}
      },
      "source": [
        "mtcars_sample.pivot(columns='cyl',values='hp')"
      ],
      "execution_count": null,
      "outputs": []
    },
    {
      "cell_type": "code",
      "metadata": {
        "id": "Kdq3LpuUSzvu",
        "colab_type": "code",
        "colab": {}
      },
      "source": [
        "mtcars_sample.pivot(columns='cyl',values='hp').mean()"
      ],
      "execution_count": null,
      "outputs": []
    },
    {
      "cell_type": "code",
      "metadata": {
        "id": "wpLGpRN5OCiM",
        "colab_type": "code",
        "colab": {}
      },
      "source": [
        "mtcars_sample.pivot_table(index='cyl',columns='am', values='hp',aggfunc='mean')"
      ],
      "execution_count": null,
      "outputs": []
    },
    {
      "cell_type": "markdown",
      "metadata": {
        "id": "FCCuTYPwTRWj",
        "colab_type": "text"
      },
      "source": [
        "## Activity: Pivot Table"
      ]
    },
    {
      "cell_type": "code",
      "metadata": {
        "id": "epXSbRMyJb6r",
        "colab_type": "code",
        "colab": {}
      },
      "source": [
        "long_term_care = pd.read_csv('https://raw.githubusercontent.com/tertiarycourses/datasets/master/number-of-residential-long-term-care-facilities-sector-breakdown.csv')\n",
        "long_term_care"
      ],
      "execution_count": null,
      "outputs": []
    },
    {
      "cell_type": "code",
      "metadata": {
        "id": "H99uCIMpFhCS",
        "colab_type": "code",
        "colab": {}
      },
      "source": [
        "long_term_care.pivot(columns='sector',values='count').sum()"
      ],
      "execution_count": null,
      "outputs": []
    },
    {
      "cell_type": "code",
      "metadata": {
        "id": "W5RwiZ0zWMUk",
        "colab_type": "code",
        "colab": {}
      },
      "source": [
        "long_term_care.pivot_table(index=['year','sector'],values='count',aggfunc='sum')"
      ],
      "execution_count": null,
      "outputs": []
    },
    {
      "cell_type": "markdown",
      "metadata": {
        "id": "G1dOkMVjgEcR",
        "colab_type": "text"
      },
      "source": [
        "# Topic 3 Data Visualization \n"
      ]
    },
    {
      "cell_type": "markdown",
      "metadata": {
        "id": "Oo5-hh9wndTS",
        "colab_type": "text"
      },
      "source": [
        "## Plot DataFrame"
      ]
    },
    {
      "cell_type": "code",
      "metadata": {
        "id": "3zBuJvpXgEcR",
        "colab_type": "code",
        "colab": {}
      },
      "source": [
        "mtcars_sample.plot()"
      ],
      "execution_count": null,
      "outputs": []
    },
    {
      "cell_type": "code",
      "metadata": {
        "id": "xPNmPhoVnCjq",
        "colab_type": "code",
        "colab": {}
      },
      "source": [
        "mtcars_sample['hp'].plot()"
      ],
      "execution_count": null,
      "outputs": []
    },
    {
      "cell_type": "markdown",
      "metadata": {
        "id": "WqDqNUFSnUfB",
        "colab_type": "text"
      },
      "source": [
        "## Activity: Plot DataFrame"
      ]
    },
    {
      "cell_type": "code",
      "metadata": {
        "id": "m7r7woxkgEcS",
        "colab_type": "code",
        "colab": {}
      },
      "source": [
        "health_expenditure_sample.plot()"
      ],
      "execution_count": null,
      "outputs": []
    },
    {
      "cell_type": "markdown",
      "metadata": {
        "id": "2uCvKWxPoGSL",
        "colab_type": "text"
      },
      "source": [
        "## Scatter Plot"
      ]
    },
    {
      "cell_type": "code",
      "metadata": {
        "id": "_ZT1rV-qgEcS",
        "colab_type": "code",
        "colab": {}
      },
      "source": [
        "mtcars_sample.plot.scatter(x=\"hp\", y=\"mpg\",alpha=0.5)"
      ],
      "execution_count": null,
      "outputs": []
    },
    {
      "cell_type": "code",
      "metadata": {
        "id": "rV2lEpL1KkKP",
        "colab_type": "code",
        "colab": {}
      },
      "source": [
        "mtcars_sample.plot.scatter(x=\"hp\", y=\"mpg\",alpha=0.5)\n",
        "plt.xlabel(\"hp\")\n",
        "plt.ylabel(\"mpg\")\n",
        "plt.title(\"hp vs mpg\")"
      ],
      "execution_count": null,
      "outputs": []
    },
    {
      "cell_type": "markdown",
      "metadata": {
        "id": "35dULZLRpJrP",
        "colab_type": "text"
      },
      "source": [
        "## Bar Plot"
      ]
    },
    {
      "cell_type": "code",
      "metadata": {
        "id": "v-ViXELtpLRQ",
        "colab_type": "code",
        "colab": {}
      },
      "source": [
        "mtcars_sample.pivot(columns='cyl',values='hp').mean().plot.bar()"
      ],
      "execution_count": null,
      "outputs": []
    },
    {
      "cell_type": "code",
      "metadata": {
        "id": "EK3XwwN0gEcW",
        "colab_type": "code",
        "colab": {}
      },
      "source": [
        "mtcars_sample.pivot(columns='cyl',values='hp').mean().plot.bar(color='red')"
      ],
      "execution_count": null,
      "outputs": []
    },
    {
      "cell_type": "code",
      "metadata": {
        "id": "0w_rHkBYJUmu",
        "colab_type": "code",
        "colab": {}
      },
      "source": [
        "mtcars_cyl= mtcars_sample.pivot(columns='cyl',values='hp').mean().plot(kind='bar',color='red')"
      ],
      "execution_count": null,
      "outputs": []
    },
    {
      "cell_type": "code",
      "metadata": {
        "id": "J6F_VhO4gEcW",
        "colab_type": "code",
        "colab": {}
      },
      "source": [
        "mtcars_cyl= mtcars_sample.pivot(columns='cyl',values='hp').mean().plot.barh()"
      ],
      "execution_count": null,
      "outputs": []
    },
    {
      "cell_type": "code",
      "metadata": {
        "id": "y10HcfVBnhkW",
        "colab_type": "code",
        "colab": {}
      },
      "source": [
        "mtcars_sample.pivot_table(index='am',columns='cyl',values='mpg',aggfunc=['mean']).plot.bar()"
      ],
      "execution_count": null,
      "outputs": []
    },
    {
      "cell_type": "code",
      "metadata": {
        "id": "1r_krrMQ8flG",
        "colab_type": "code",
        "colab": {}
      },
      "source": [
        "mtcars_sample.groupby(['am','cyl']).mean().plot.bar(stacked=True)"
      ],
      "execution_count": null,
      "outputs": []
    },
    {
      "cell_type": "markdown",
      "metadata": {
        "id": "KXrmndH-AXVm",
        "colab_type": "text"
      },
      "source": [
        "## Pie Plot"
      ]
    },
    {
      "cell_type": "code",
      "metadata": {
        "id": "YbKPBpubAKXr",
        "colab_type": "code",
        "colab": {}
      },
      "source": [
        "mtcars_cyl= mtcars_sample.pivot(columns='cyl',values='hp').mean().plot.pie()"
      ],
      "execution_count": null,
      "outputs": []
    },
    {
      "cell_type": "markdown",
      "metadata": {
        "id": "Wi8T2GV-8YJ1",
        "colab_type": "text"
      },
      "source": [
        "## Boxplot"
      ]
    },
    {
      "cell_type": "code",
      "metadata": {
        "id": "ZSHONUAzgEcX",
        "colab_type": "code",
        "colab": {}
      },
      "source": [
        "mtcars_cyl= mtcars_sample.pivot(columns='cyl',values='hp').plot.box()"
      ],
      "execution_count": null,
      "outputs": []
    },
    {
      "cell_type": "markdown",
      "metadata": {
        "id": "8LqNNWR8_3DJ",
        "colab_type": "text"
      },
      "source": [
        "## Area Plot"
      ]
    },
    {
      "cell_type": "code",
      "metadata": {
        "id": "mniu6MsH_sf9",
        "colab_type": "code",
        "colab": {}
      },
      "source": [
        "mtcars_sample2 = mtcars_sample[['cyl','mpg','hp']]\n",
        "mtcars_sample2.groupby(['cyl']).mean().plot.area()"
      ],
      "execution_count": null,
      "outputs": []
    },
    {
      "cell_type": "markdown",
      "metadata": {
        "id": "VH1TUqLC8boj",
        "colab_type": "text"
      },
      "source": [
        "## Histogram"
      ]
    },
    {
      "cell_type": "code",
      "metadata": {
        "id": "croK8jpc4z0Y",
        "colab_type": "code",
        "colab": {}
      },
      "source": [
        "mtcars_sample.mpg.plot.hist(bins=15)"
      ],
      "execution_count": null,
      "outputs": []
    },
    {
      "cell_type": "markdown",
      "metadata": {
        "id": "-WNvXsgO6Eva",
        "colab_type": "text"
      },
      "source": [
        "## Activity: Data Visualization"
      ]
    },
    {
      "cell_type": "code",
      "metadata": {
        "id": "2XCEhmlv5yzh",
        "colab_type": "code",
        "colab": {}
      },
      "source": [
        "long_term_care.pivot(columns='sector',values='count').sum().plot.barh()"
      ],
      "execution_count": null,
      "outputs": []
    },
    {
      "cell_type": "markdown",
      "metadata": {
        "id": "r1zzTOaY-ZGn",
        "colab_type": "text"
      },
      "source": [
        "## Subplot"
      ]
    },
    {
      "cell_type": "code",
      "metadata": {
        "id": "XdSESyWu-eGG",
        "colab_type": "code",
        "colab": {}
      },
      "source": [
        "mtcars_sample.groupby('cyl').mean().plot(subplots=True)"
      ],
      "execution_count": null,
      "outputs": []
    },
    {
      "cell_type": "markdown",
      "metadata": {
        "id": "eRRN_s5_-fdV",
        "colab_type": "text"
      },
      "source": [
        "## Activity: Subplot"
      ]
    },
    {
      "cell_type": "code",
      "metadata": {
        "id": "L2JqOrS18iDn",
        "colab_type": "code",
        "colab": {}
      },
      "source": [
        "health_expenditure_sample.plot(subplots=True)"
      ],
      "execution_count": null,
      "outputs": []
    },
    {
      "cell_type": "markdown",
      "metadata": {
        "id": "RFmMnQq7Bg99",
        "colab_type": "text"
      },
      "source": [
        "## Matplotlib - Scatter Plot"
      ]
    },
    {
      "cell_type": "code",
      "metadata": {
        "id": "AtpWcs-qAiuJ",
        "colab_type": "code",
        "colab": {}
      },
      "source": [
        "plt.scatter(x=\"hp\", y=\"mpg\", data=mtcars_sample,color='red')\n",
        "plt.xlabel('hp')\n",
        "plt.ylabel('mpg')\n",
        "plt.title('hp vs mpg')"
      ],
      "execution_count": null,
      "outputs": []
    },
    {
      "cell_type": "markdown",
      "metadata": {
        "id": "BHefiSTn_fFW",
        "colab_type": "text"
      },
      "source": [
        "## Seaborn - Heatmap"
      ]
    },
    {
      "cell_type": "code",
      "metadata": {
        "id": "tc_PBNKe-ywq",
        "colab_type": "code",
        "colab": {}
      },
      "source": [
        "mtcars_cyl= mtcars_sample.groupby('cyl').mean()\n",
        "sb.heatmap(mtcars_cyl, annot=True)"
      ],
      "execution_count": null,
      "outputs": []
    },
    {
      "cell_type": "markdown",
      "metadata": {
        "id": "ei_6QNNnAfJO",
        "colab_type": "text"
      },
      "source": [
        "## Seaborn - Regression Line"
      ]
    },
    {
      "cell_type": "code",
      "metadata": {
        "id": "cTeO7FlwAMwT",
        "colab_type": "code",
        "colab": {}
      },
      "source": [
        "sb.lmplot(x=\"hp\", y=\"mpg\",data=mtcars_sample,fit_reg=True) "
      ],
      "execution_count": null,
      "outputs": []
    },
    {
      "cell_type": "markdown",
      "metadata": {
        "id": "L2TpPaOmgEcY",
        "colab_type": "text"
      },
      "source": [
        "# Topic 4 Data Analysis \n"
      ]
    },
    {
      "cell_type": "markdown",
      "metadata": {
        "id": "P73Xquh-Fg4u",
        "colab_type": "text"
      },
      "source": [
        "## Descriptive Statistics"
      ]
    },
    {
      "cell_type": "code",
      "metadata": {
        "id": "uvqm6j8zCSgD",
        "colab_type": "code",
        "colab": {}
      },
      "source": [
        "mtcars_sample[[\"mpg\", \"hp\"]].median()"
      ],
      "execution_count": null,
      "outputs": []
    },
    {
      "cell_type": "code",
      "metadata": {
        "id": "Ie8PE1CoDC1o",
        "colab_type": "code",
        "colab": {}
      },
      "source": [
        "mtcars_sample[[\"mpg\", \"hp\"]].describe()"
      ],
      "execution_count": null,
      "outputs": []
    },
    {
      "cell_type": "markdown",
      "metadata": {
        "id": "l-NvhSZ6frva",
        "colab_type": "text"
      },
      "source": [
        "## Descriptive Statistics for Categorical Data"
      ]
    },
    {
      "cell_type": "code",
      "metadata": {
        "id": "NGWWil3geNWD",
        "colab_type": "code",
        "colab": {}
      },
      "source": [
        "mtcars_sample.groupby('cyl').mpg.agg(['mean', 'median', 'max'])"
      ],
      "execution_count": null,
      "outputs": []
    },
    {
      "cell_type": "code",
      "metadata": {
        "id": "epDcrdFJdZ49",
        "colab_type": "code",
        "colab": {}
      },
      "source": [
        "mtcars_sample.groupby('cyl').mpg.describe()"
      ],
      "execution_count": null,
      "outputs": []
    },
    {
      "cell_type": "code",
      "metadata": {
        "id": "97jOK_x5DjP9",
        "colab_type": "code",
        "colab": {}
      },
      "source": [
        "mtcars_sample[[\"cyl\", \"mpg\"]].groupby(\"cyl\").mean()"
      ],
      "execution_count": null,
      "outputs": []
    },
    {
      "cell_type": "code",
      "metadata": {
        "id": "ZqgvfbxkEhoY",
        "colab_type": "code",
        "colab": {}
      },
      "source": [
        "mtcars_sample.groupby(\"cyl\")[\"mpg\"].mean()"
      ],
      "execution_count": null,
      "outputs": []
    },
    {
      "cell_type": "markdown",
      "metadata": {
        "id": "1At9aRe6foNF",
        "colab_type": "text"
      },
      "source": [
        "## Count"
      ]
    },
    {
      "cell_type": "code",
      "metadata": {
        "id": "rwcBjU_nE5d3",
        "colab_type": "code",
        "colab": {}
      },
      "source": [
        "mtcars_sample[\"cyl\"].value_counts()"
      ],
      "execution_count": null,
      "outputs": []
    },
    {
      "cell_type": "markdown",
      "metadata": {
        "id": "-B9V_ginGSC8",
        "colab_type": "text"
      },
      "source": [
        "## Activitiy: Descriptive Statistics"
      ]
    },
    {
      "cell_type": "code",
      "metadata": {
        "id": "a-hemZw3FfeM",
        "colab_type": "code",
        "colab": {}
      },
      "source": [
        "long_term_care = pd.read_csv('https://raw.githubusercontent.com/tertiarycourses/datasets/master/number-of-residential-long-term-care-facilities-sector-breakdown.csv',)\n",
        "long_term_care['sector'].value_counts()"
      ],
      "execution_count": null,
      "outputs": []
    },
    {
      "cell_type": "markdown",
      "metadata": {
        "id": "MEt4jzoeA_Rf",
        "colab_type": "text"
      },
      "source": [
        "## Covariance and Correlation"
      ]
    },
    {
      "cell_type": "code",
      "metadata": {
        "id": "mBFHvjNKA3KH",
        "colab_type": "code",
        "colab": {}
      },
      "source": [
        "mtcars_sample.cov()"
      ],
      "execution_count": null,
      "outputs": []
    },
    {
      "cell_type": "code",
      "metadata": {
        "id": "xB6udGwrA6dF",
        "colab_type": "code",
        "colab": {}
      },
      "source": [
        "mtcars_sample.corr()"
      ],
      "execution_count": null,
      "outputs": []
    },
    {
      "cell_type": "markdown",
      "metadata": {
        "id": "YM8Mo9e5gEcY",
        "colab_type": "text"
      },
      "source": [
        "## Time Series Analysis"
      ]
    },
    {
      "cell_type": "code",
      "metadata": {
        "id": "GMrRPAN7HlIq",
        "colab_type": "code",
        "colab": {}
      },
      "source": [
        "air_quality = pd.read_csv(\"https://raw.githubusercontent.com/pandas-dev/pandas/master/doc/data/air_quality_no2_long.csv\")\n",
        "air_quality = air_quality.rename(columns={\"date.utc\": \"datetime\"})\n",
        "air_quality.head()"
      ],
      "execution_count": null,
      "outputs": []
    },
    {
      "cell_type": "code",
      "metadata": {
        "id": "2emAw2JbHymo",
        "colab_type": "code",
        "colab": {}
      },
      "source": [
        "air_quality.city.unique()"
      ],
      "execution_count": null,
      "outputs": []
    },
    {
      "cell_type": "code",
      "metadata": {
        "id": "5cEXaWEiH3Th",
        "colab_type": "code",
        "colab": {}
      },
      "source": [
        "air_quality[\"datetime\"] = pd.to_datetime(air_quality[\"datetime\"])\n",
        "air_quality[\"datetime\"]"
      ],
      "execution_count": null,
      "outputs": []
    },
    {
      "cell_type": "markdown",
      "metadata": {
        "id": "yKZNvBOqYzJ9",
        "colab_type": "text"
      },
      "source": [
        "## Datetime "
      ]
    },
    {
      "cell_type": "code",
      "metadata": {
        "id": "FRC_bKl6IFGi",
        "colab_type": "code",
        "colab": {}
      },
      "source": [
        "air_quality = pd.read_csv(\"https://raw.githubusercontent.com/pandas-dev/pandas/master/doc/data/air_quality_no2_long.csv\",parse_dates=[\"date.utc\"])\n",
        "air_quality = air_quality.rename(columns={\"date.utc\": \"datetime\"})\n",
        "air_quality.head()"
      ],
      "execution_count": null,
      "outputs": []
    },
    {
      "cell_type": "code",
      "metadata": {
        "id": "Ouw3RmkjIbuS",
        "colab_type": "code",
        "colab": {}
      },
      "source": [
        "air_quality[\"datetime\"]"
      ],
      "execution_count": null,
      "outputs": []
    },
    {
      "cell_type": "code",
      "metadata": {
        "id": "0_efqmrJIjbQ",
        "colab_type": "code",
        "colab": {}
      },
      "source": [
        "air_quality[\"datetime\"].min(), air_quality[\"datetime\"].max()"
      ],
      "execution_count": null,
      "outputs": []
    },
    {
      "cell_type": "code",
      "metadata": {
        "id": "F2cD2aH3ImZl",
        "colab_type": "code",
        "colab": {}
      },
      "source": [
        "air_quality[\"datetime\"].max() - air_quality[\"datetime\"].min()"
      ],
      "execution_count": null,
      "outputs": []
    },
    {
      "cell_type": "code",
      "metadata": {
        "id": "TFsDFrBCIrXx",
        "colab_type": "code",
        "colab": {}
      },
      "source": [
        "air_quality[\"month\"] = air_quality[\"datetime\"].dt.month"
      ],
      "execution_count": null,
      "outputs": []
    },
    {
      "cell_type": "code",
      "metadata": {
        "id": "cT2xKeheIu1c",
        "colab_type": "code",
        "colab": {}
      },
      "source": [
        "air_quality.head()"
      ],
      "execution_count": null,
      "outputs": []
    },
    {
      "cell_type": "code",
      "metadata": {
        "id": "JrdE4DSmIzGg",
        "colab_type": "code",
        "colab": {}
      },
      "source": [
        "air_quality.groupby([air_quality[\"datetime\"].dt.weekday, \"location\"])[\"value\"].mean()"
      ],
      "execution_count": null,
      "outputs": []
    },
    {
      "cell_type": "markdown",
      "metadata": {
        "id": "W8miFX7bYpmS",
        "colab_type": "text"
      },
      "source": [
        "## Time Series Plot"
      ]
    },
    {
      "cell_type": "code",
      "metadata": {
        "id": "BNCwOGZMJCtO",
        "colab_type": "code",
        "colab": {}
      },
      "source": [
        "fig, axs = plt.subplots(figsize=(12, 4))\n",
        "air_quality.groupby(air_quality[\"datetime\"].dt.hour)[\"value\"].mean().plot(kind='bar',rot=0,ax=axs)\n",
        "plt.xlabel(\"Hour of the day\")\n",
        "plt.ylabel(\"$NO_2 (µg/m^3)$\")"
      ],
      "execution_count": null,
      "outputs": []
    },
    {
      "cell_type": "markdown",
      "metadata": {
        "id": "ST_YmZ6oYkVS",
        "colab_type": "text"
      },
      "source": [
        "## Datetime as Index"
      ]
    },
    {
      "cell_type": "code",
      "metadata": {
        "id": "UqhV39FHK2NQ",
        "colab_type": "code",
        "colab": {}
      },
      "source": [
        "no_2 = air_quality.pivot(index=\"datetime\", columns=\"location\", values=\"value\")\n",
        "no_2.head()"
      ],
      "execution_count": null,
      "outputs": []
    },
    {
      "cell_type": "code",
      "metadata": {
        "id": "0qfQv1emK_FK",
        "colab_type": "code",
        "colab": {}
      },
      "source": [
        "no_2[\"2019-05-20\":\"2019-05-21\"].plot()"
      ],
      "execution_count": null,
      "outputs": []
    },
    {
      "cell_type": "markdown",
      "metadata": {
        "id": "YbgiJcagYZcL",
        "colab_type": "text"
      },
      "source": [
        "## Resample a Time Series"
      ]
    },
    {
      "cell_type": "code",
      "metadata": {
        "id": "pwQy8AB9LJsn",
        "colab_type": "code",
        "colab": {}
      },
      "source": [
        "monthly_max = no_2.resample(\"M\").max()\n",
        "monthly_max"
      ],
      "execution_count": null,
      "outputs": []
    },
    {
      "cell_type": "code",
      "metadata": {
        "id": "Tt6ZCubuLQli",
        "colab_type": "code",
        "colab": {}
      },
      "source": [
        "no_2.resample(\"D\").mean().plot(style=\"-o\", figsize=(10, 5));"
      ],
      "execution_count": null,
      "outputs": []
    },
    {
      "cell_type": "markdown",
      "metadata": {
        "id": "o1q61KmalJgB",
        "colab_type": "text"
      },
      "source": [
        "## Activity: Time Series Analysis"
      ]
    },
    {
      "cell_type": "code",
      "metadata": {
        "id": "FTGX-ePWjnu6",
        "colab_type": "code",
        "colab": {}
      },
      "source": [
        "long_term_care_pivot = long_term_care.pivot(columns='year',values='count').sum()\n",
        "long_term_care_pivot.plot()\n",
        "plt.xlabel('year')\n",
        "plt.ylabel('No of long term care faciliteis')"
      ],
      "execution_count": null,
      "outputs": []
    },
    {
      "cell_type": "markdown",
      "metadata": {
        "id": "WpK7XPfuZJs-",
        "colab_type": "text"
      },
      "source": [
        "# Topic 5 Advanced Data Analytics"
      ]
    },
    {
      "cell_type": "markdown",
      "metadata": {
        "id": "DdggqdNXIp0x",
        "colab_type": "text"
      },
      "source": [
        "## Pipe"
      ]
    },
    {
      "cell_type": "code",
      "metadata": {
        "id": "F5O-XpI9Idw6",
        "colab_type": "code",
        "colab": {}
      },
      "source": [
        "def load_data():\n",
        "    return pd.read_csv('https://raw.githubusercontent.com/tertiarycourses/WSQ-Python-Data-Analytics/master/exercises/data/mtcars.csv',\n",
        "                          index_col='car_names',\n",
        "                          usecols=['car_names','mpg','hp','cyl','am'])"
      ],
      "execution_count": null,
      "outputs": []
    },
    {
      "cell_type": "code",
      "metadata": {
        "id": "gsSLqZ6WImuw",
        "colab_type": "code",
        "colab": {}
      },
      "source": [
        "def plotbar(df):\n",
        "    df_cyl= df.pivot(columns='cyl',values='hp').mean()\n",
        "    df_cyl.plot.bar(color='red')"
      ],
      "execution_count": null,
      "outputs": []
    },
    {
      "cell_type": "code",
      "metadata": {
        "id": "p1hp5RgwIjVx",
        "colab_type": "code",
        "colab": {}
      },
      "source": [
        "mtcars_pipe =(\n",
        "    load_data()\n",
        "    .pipe(plotbar)\n",
        ")\n"
      ],
      "execution_count": null,
      "outputs": []
    },
    {
      "cell_type": "markdown",
      "metadata": {
        "id": "RQbQYM3-LBXi",
        "colab_type": "text"
      },
      "source": [
        "## Activity: Pipe"
      ]
    },
    {
      "cell_type": "code",
      "metadata": {
        "id": "UyD7LWyPJ-J2",
        "colab_type": "code",
        "colab": {}
      },
      "source": [
        "def load_data():\n",
        "    return pd.read_csv('https://raw.githubusercontent.com/tertiarycourses/datasets/master/number-of-residential-long-term-care-facilities-sector-breakdown.csv')"
      ],
      "execution_count": null,
      "outputs": []
    },
    {
      "cell_type": "code",
      "metadata": {
        "id": "MtPATB8JKFg8",
        "colab_type": "code",
        "colab": {}
      },
      "source": [
        "def plotbarh(df):\n",
        "    df_pivot = df.pivot(columns='sector',values='count').sum()\n",
        "    df_pivot.plot.barh()\n"
      ],
      "execution_count": null,
      "outputs": []
    },
    {
      "cell_type": "code",
      "metadata": {
        "id": "o1kWNSu-K1nJ",
        "colab_type": "code",
        "colab": {}
      },
      "source": [
        "long_term_car_pipe =(\n",
        "    load_data()\n",
        "    .pipe(plotbarh)\n",
        ")\n"
      ],
      "execution_count": null,
      "outputs": []
    },
    {
      "cell_type": "markdown",
      "metadata": {
        "id": "QODt9EwcIe17",
        "colab_type": "text"
      },
      "source": [
        "## Apply"
      ]
    },
    {
      "cell_type": "code",
      "metadata": {
        "id": "IE8SCm6BGC0V",
        "colab_type": "code",
        "colab": {}
      },
      "source": [
        "df = pd.DataFrame([[9, 25]] * 3, columns=['P', 'Q'])\n",
        "df"
      ],
      "execution_count": null,
      "outputs": []
    },
    {
      "cell_type": "code",
      "metadata": {
        "id": "WlSenEFCGLZu",
        "colab_type": "code",
        "colab": {}
      },
      "source": [
        "df.apply(np.sqrt)"
      ],
      "execution_count": null,
      "outputs": []
    },
    {
      "cell_type": "code",
      "metadata": {
        "id": "pM576cf-f8vC",
        "colab_type": "code",
        "colab": {}
      },
      "source": [
        "uppercase = lambda x: x.upper()"
      ],
      "execution_count": null,
      "outputs": []
    },
    {
      "cell_type": "code",
      "metadata": {
        "id": "n1YhVsaDf-YV",
        "colab_type": "code",
        "colab": {}
      },
      "source": [
        "mtcars_sample2 = mtcars_sample.reset_index()\n",
        "mtcars_sample2['car_names'] = mtcars_sample2['car_names'].apply(uppercase)\n",
        "mtcars_sample2"
      ],
      "execution_count": null,
      "outputs": []
    },
    {
      "cell_type": "markdown",
      "metadata": {
        "id": "viSiaJyLnzQ3",
        "colab_type": "text"
      },
      "source": [
        "## Activity: Apply"
      ]
    },
    {
      "cell_type": "code",
      "metadata": {
        "id": "U3MVhK0tmm48",
        "colab_type": "code",
        "colab": {}
      },
      "source": [
        "health_expenditure = pd.read_csv('https://raw.githubusercontent.com/tertiarycourses/datasets/master/government-health-expenditure.csv')\n",
        "health_expenditure"
      ],
      "execution_count": null,
      "outputs": []
    },
    {
      "cell_type": "code",
      "metadata": {
        "id": "7kDCLIpsmyEU",
        "colab_type": "code",
        "colab": {}
      },
      "source": [
        "SGD2USD = lambda x: x/1.4\n",
        "health_expenditure[['operating_expenditure','development_expenditure','government_health_expenditure']].apply(SGD2USD)"
      ],
      "execution_count": null,
      "outputs": []
    },
    {
      "cell_type": "markdown",
      "metadata": {
        "id": "5515POXngEcl",
        "colab_type": "text"
      },
      "source": [
        "## Linear Regression"
      ]
    },
    {
      "cell_type": "code",
      "metadata": {
        "id": "0QGp0yG0gEcl",
        "colab_type": "code",
        "colab": {}
      },
      "source": [
        "x = pd.read_csv('https://raw.githubusercontent.com/tertiarycourses/datasets/master/boston-housing-prices.csv')\n",
        "x"
      ],
      "execution_count": null,
      "outputs": []
    },
    {
      "cell_type": "code",
      "metadata": {
        "id": "hM0a4prM-2WI",
        "colab_type": "code",
        "colab": {}
      },
      "source": [
        "y = x.pop('medv')"
      ],
      "execution_count": null,
      "outputs": []
    },
    {
      "cell_type": "code",
      "metadata": {
        "id": "Zv3H8ozZgEcm",
        "colab_type": "code",
        "colab": {}
      },
      "source": [
        "from sklearn import linear_model\n",
        "lm = linear_model.LinearRegression()"
      ],
      "execution_count": null,
      "outputs": []
    },
    {
      "cell_type": "code",
      "metadata": {
        "id": "8ImgWvipgEcn",
        "colab_type": "code",
        "colab": {}
      },
      "source": [
        "lm.fit(x,y)"
      ],
      "execution_count": null,
      "outputs": []
    },
    {
      "cell_type": "code",
      "metadata": {
        "id": "gRKKdI0K_cV-",
        "colab_type": "code",
        "colab": {}
      },
      "source": [
        "yhat = lm.predict(x)"
      ],
      "execution_count": null,
      "outputs": []
    },
    {
      "cell_type": "code",
      "metadata": {
        "id": "RUe3bln7gEco",
        "colab_type": "code",
        "colab": {}
      },
      "source": [
        "plt.scatter(y,yhat)\n",
        "plt.xlabel('Actual Housing Price')\n",
        "plt.ylabel('Predicted Housing Price')\n",
        "plt.plot([0,50],[0,50],'r')\n",
        "plt.show()"
      ],
      "execution_count": null,
      "outputs": []
    },
    {
      "cell_type": "markdown",
      "metadata": {
        "id": "TLzFdAWwBzDU",
        "colab_type": "text"
      },
      "source": [
        "## Activiity: Regression"
      ]
    },
    {
      "cell_type": "code",
      "metadata": {
        "id": "0FUGhfcAm3xZ",
        "colab_type": "code",
        "colab": {}
      },
      "source": [
        "x = pd.read_csv('https://raw.githubusercontent.com/tertiarycourses/datasets/master/government-health-expenditure.csv',usecols=['operating_expenditure','government_health_expenditure'])\n",
        "x"
      ],
      "execution_count": null,
      "outputs": []
    },
    {
      "cell_type": "code",
      "metadata": {
        "id": "t2aCWLbrBCeF",
        "colab_type": "code",
        "colab": {}
      },
      "source": [
        "y = x.pop('government_health_expenditure')"
      ],
      "execution_count": null,
      "outputs": []
    },
    {
      "cell_type": "code",
      "metadata": {
        "id": "y2rUtqE8BN6N",
        "colab_type": "code",
        "colab": {}
      },
      "source": [
        "from sklearn import linear_model\n",
        "lm = linear_model.LinearRegression()"
      ],
      "execution_count": null,
      "outputs": []
    },
    {
      "cell_type": "code",
      "metadata": {
        "id": "L--JG3teBW2r",
        "colab_type": "code",
        "colab": {}
      },
      "source": [
        "lm.fit(x,y)\n",
        "yhat = lm.predict(x)"
      ],
      "execution_count": null,
      "outputs": []
    },
    {
      "cell_type": "code",
      "metadata": {
        "id": "p3-D6T-lBasO",
        "colab_type": "code",
        "colab": {}
      },
      "source": [
        "plt.scatter(x,y)\n",
        "plt.xlabel('operating_expenditure')\n",
        "plt.ylabel('government_health_expenditure')\n",
        "plt.plot(x,yhat,'r')\n",
        "plt.show()"
      ],
      "execution_count": null,
      "outputs": []
    }
  ]
}